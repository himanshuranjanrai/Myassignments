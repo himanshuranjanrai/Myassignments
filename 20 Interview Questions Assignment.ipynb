{
 "cells": [
  {
   "cell_type": "markdown",
   "metadata": {},
   "source": [
    "# Questions"
   ]
  },
  {
   "cell_type": "markdown",
   "metadata": {},
   "source": [
    "# 1) Differentiate between lists and tuples.\n",
    "\n",
    "### Ans--The major difference is that a list is mutable, but a tuple is immutable. \n",
    "\n",
    "Examples:\n",
    "mylist=[1,3,3]\n",
    "mylist[1]=2\n",
    "\n",
    "mytuple=(1,3,3)\n",
    "mytuple[1]=2\n",
    "TypeError: ‘tuple’ object does not support item assignment"
   ]
  },
  {
   "cell_type": "code",
   "execution_count": 2,
   "metadata": {},
   "outputs": [],
   "source": [
    "# --------------------------------------------------------------------------------------------------"
   ]
  },
  {
   "cell_type": "markdown",
   "metadata": {},
   "source": [
    "# 2) How long can an identifier be in Python?\n",
    "\n",
    "### Ans--According to the official Python documentation, an identifier can be of any length. However, PEP 8 suggests that you should limit all lines to a maximum of 79 characters. Also, PEP 20 says ‘readability counts’. So, a very long identifier will violate PEP-8 and PEP-20."
   ]
  },
  {
   "cell_type": "code",
   "execution_count": null,
   "metadata": {},
   "outputs": [],
   "source": [
    "# --------------------------------------------------------------------------------------------------"
   ]
  },
  {
   "cell_type": "markdown",
   "metadata": {},
   "source": [
    "# 3) What is the pass statement in Python?\n",
    "\n",
    "### Ans--There may be times in our code when we haven’t decided what to do yet, but we must type something for it to be syntactically correct. In such a case, we use the pass statement."
   ]
  },
  {
   "cell_type": "code",
   "execution_count": null,
   "metadata": {},
   "outputs": [],
   "source": [
    "# --------------------------------------------------------------------------------------------------"
   ]
  },
  {
   "cell_type": "markdown",
   "metadata": {},
   "source": [
    "# 4) How do you get a list of all the keys in a dictionary?\n",
    "\n",
    "### Ans--Be specific in these type of Python Interview Questions and Answers.\n",
    "\n",
    "For this, we use the function keys().\n",
    "\n",
    "mydict={'a':1,'b':2,'c':3,'e':5}\n",
    "mydict.keys()\n"
   ]
  },
  {
   "cell_type": "code",
   "execution_count": 3,
   "metadata": {},
   "outputs": [],
   "source": [
    "# --------------------------------------------------------------------------------------------------"
   ]
  },
  {
   "cell_type": "markdown",
   "metadata": {},
   "source": [
    "# 5) How will you remove a duplicate element from a list?\n",
    "\n",
    "### Ans--We can turn it into a set to do that. use set() keyword"
   ]
  },
  {
   "cell_type": "code",
   "execution_count": 5,
   "metadata": {},
   "outputs": [],
   "source": [
    "# --------------------------------------------------------------------------------------------------\n"
   ]
  },
  {
   "cell_type": "markdown",
   "metadata": {},
   "source": [
    "# 6) tell us about bitwise operators in Python?\n",
    "\n",
    "### Ans--These operate on values bit by bit \n",
    "   \"\"\"AND (&) This performs & on each bit pair.\n",
    "      >>> 0b110 & 0b010\n",
    "      >>> 2\n",
    "   \n",
    "      OR (|) This performs | on each bit pair.\n",
    "      >>> 3|2\n",
    "      >>> 3\n",
    "\n",
    "      XOR (^) This performs an exclusive-OR operation on each bit pair.\n",
    "      >>> 3^2\n",
    "      >>> 1\n",
    "\n",
    "      Binary One’s Complement (~) This returns the one’s complement of a value.\n",
    "      >>> ~2\n",
    "      >>> -3\n",
    "\n",
    "      Binary Left-Shift (<<) This shifts the bits to the left by the specified amount.\n",
    "      >>> 1<<2\n",
    "      >>>4\n",
    "      Here, 001 was shifted to the left by two places to get 100, which is binary for 4.\n",
    "\n",
    "      Binary Right-Shift (>>)\n",
    "      >>> 4>>2\n",
    "      >>> 1  \"\"\"\n",
    "    "
   ]
  },
  {
   "cell_type": "code",
   "execution_count": 7,
   "metadata": {},
   "outputs": [],
   "source": [
    "# --------------------------------------------------------------------------------------------------"
   ]
  },
  {
   "cell_type": "markdown",
   "metadata": {},
   "source": [
    "# 7)What is recursion?\n",
    "\n",
    "### Ans--When a function makes a call to itself, it is termed recursion. But then, in order for it to avoid forming an infinite loop, we must have a base condition.\n",
    "### Let’s take an example.\n",
    "\n",
    "### >>> def facto(n):\n",
    "### >>>     if n==1: return 1\n",
    "### >>> return n*facto(n-1)\"\"\"\n",
    "        \n",
    "    >>> facto(4)\n",
    "        24 \n",
    "\"\"\"\n"
   ]
  },
  {
   "cell_type": "code",
   "execution_count": null,
   "metadata": {},
   "outputs": [],
   "source": [
    "# --------------------------------------------------------------------------------------------------"
   ]
  },
  {
   "cell_type": "markdown",
   "metadata": {},
   "source": [
    "# 8) What does the function zip() do?\n",
    "\n",
    "### Ans--zip() returns an iterator of tuples.\n",
    "\n",
    "### list(zip(['a','b','c'],[1,2,3]))\n",
    "[(‘a’, 1), (‘b’, 2), (‘c’, 3)]\n"
   ]
  },
  {
   "cell_type": "code",
   "execution_count": null,
   "metadata": {},
   "outputs": [],
   "source": [
    "# --------------------------------------------------------------------------------------------------"
   ]
  },
  {
   "cell_type": "markdown",
   "metadata": {},
   "source": [
    "# 9) What if you want to toggle case for a Python string?\n",
    "\n",
    "### Ans-- We have the swapcase() method from the str class to do just that.\n",
    "\n",
    "### 'HiMaNShu'.swapcase()\n",
    "### ‘hImAnsHU’"
   ]
  },
  {
   "cell_type": "code",
   "execution_count": null,
   "metadata": {},
   "outputs": [],
   "source": [
    "# --------------------------------------------------------------------------------------------------"
   ]
  },
  {
   "cell_type": "markdown",
   "metadata": {},
   "source": [
    "# 10) Write code to print everything in the string except the spaces.\n"
   ]
  },
  {
   "cell_type": "code",
   "execution_count": 13,
   "metadata": {},
   "outputs": [
    {
     "name": "stdout",
     "output_type": "stream",
     "text": [
      "ILovePYTHON"
     ]
    }
   ],
   "source": [
    "s= \"I Love PYTHON\"\n",
    "for i in s:\n",
    "    if i==' ': \n",
    "        continue\n",
    "    print(i,end='')"
   ]
  },
  {
   "cell_type": "code",
   "execution_count": null,
   "metadata": {},
   "outputs": [],
   "source": [
    "# --------------------------------------------------------------------------------------------------"
   ]
  },
  {
   "cell_type": "markdown",
   "metadata": {},
   "source": [
    "# 11) What is the purpose of bytes() in Python?\n",
    "\n",
    "### bytes() is a built-in function in Python that returns an immutable bytes object. Let’s take an example.\n",
    "\n"
   ]
  },
  {
   "cell_type": "code",
   "execution_count": 15,
   "metadata": {},
   "outputs": [
    {
     "data": {
      "text/plain": [
       "b'world'"
      ]
     },
     "execution_count": 15,
     "metadata": {},
     "output_type": "execute_result"
    }
   ],
   "source": [
    "\n",
    "bytes('world','utf-8')"
   ]
  },
  {
   "cell_type": "code",
   "execution_count": 16,
   "metadata": {},
   "outputs": [
    {
     "data": {
      "text/plain": [
       "b'\\x00\\x00\\x00\\x00\\x00'"
      ]
     },
     "execution_count": 16,
     "metadata": {},
     "output_type": "execute_result"
    }
   ],
   "source": [
    "bytes(5)"
   ]
  },
  {
   "cell_type": "code",
   "execution_count": null,
   "metadata": {},
   "outputs": [],
   "source": [
    "# --------------------------------------------------------------------------------------------------"
   ]
  },
  {
   "cell_type": "markdown",
   "metadata": {},
   "source": [
    "# 12)What is a control flow statement?\n",
    "\n",
    "### Ans--A Python program usually starts to execute from the first line. From there, it moves through each statement just once and as soon as it’s done with the last statement, it transactions the program. However, sometimes, we may want to take a more twisted path through the code. Control flow statements let us disturb the normal execution flow of a program and bend it to our will."
   ]
  },
  {
   "cell_type": "code",
   "execution_count": null,
   "metadata": {},
   "outputs": [],
   "source": [
    "# --------------------------------------------------------------------------------------------------"
   ]
  },
  {
   "cell_type": "markdown",
   "metadata": {},
   "source": [
    "# 13)How would you work with numbers other than those in the decimal number system?\n",
    "\n",
    "### Ans--With Python, it is possible to type numbers in binary, octal, and hexadecimal.\n"
   ]
  },
  {
   "cell_type": "code",
   "execution_count": 19,
   "metadata": {},
   "outputs": [
    {
     "data": {
      "text/plain": [
       "10"
      ]
     },
     "execution_count": 19,
     "metadata": {},
     "output_type": "execute_result"
    }
   ],
   "source": [
    "int(0b1010)"
   ]
  },
  {
   "cell_type": "code",
   "execution_count": 20,
   "metadata": {},
   "outputs": [
    {
     "data": {
      "text/plain": [
       "'0o10'"
      ]
     },
     "execution_count": 20,
     "metadata": {},
     "output_type": "execute_result"
    }
   ],
   "source": [
    "oct(8)"
   ]
  },
  {
   "cell_type": "code",
   "execution_count": 21,
   "metadata": {},
   "outputs": [
    {
     "data": {
      "text/plain": [
       "'0xf'"
      ]
     },
     "execution_count": 21,
     "metadata": {},
     "output_type": "execute_result"
    }
   ],
   "source": [
    "hex(15)"
   ]
  },
  {
   "cell_type": "code",
   "execution_count": null,
   "metadata": {},
   "outputs": [],
   "source": [
    "# --------------------------------------------------------------------------------------------------"
   ]
  },
  {
   "cell_type": "markdown",
   "metadata": {},
   "source": [
    "# 14)How many arguments can the range() function take?\n",
    "\n",
    "### Ans--The range() function in Python can take up to 3 arguments.\n",
    "The first argument is the start value, the second is the stop value, and the third is the step value."
   ]
  },
  {
   "cell_type": "code",
   "execution_count": 23,
   "metadata": {},
   "outputs": [],
   "source": [
    "# --------------------------------------------------------------------------------------------------"
   ]
  },
  {
   "cell_type": "markdown",
   "metadata": {},
   "source": [
    "# 15) If you are ever stuck in an infinite loop, how will you break out of it?\n",
    "\n",
    "\n",
    "### Ans--For this, we press Ctrl+C. This interrupts the execution"
   ]
  },
  {
   "cell_type": "code",
   "execution_count": 25,
   "metadata": {},
   "outputs": [],
   "source": [
    "# --------------------------------------------------------------------------------------------------"
   ]
  },
  {
   "cell_type": "markdown",
   "metadata": {},
   "source": [
    "# 16)Given the first and last names of all employees in your firm, what data type will you use to store it?\n",
    "\n",
    "### Ans-- I can use a dictionary to store that. It would be something like this-\n",
    "\n",
    "{‘first_name’:’Himanshu’,’second_name’:’Rai’"
   ]
  },
  {
   "cell_type": "code",
   "execution_count": 28,
   "metadata": {},
   "outputs": [],
   "source": [
    "# --------------------------------------------------------------------------------------------------\n",
    "\n"
   ]
  },
  {
   "cell_type": "markdown",
   "metadata": {},
   "source": [
    "# 17) What is the ternary operator?\n",
    "\n",
    "### Ans--The ternary operator is a way of writing conditional statements in Python. As the name ternary suggests, this Python operator consists of three operands.\n",
    "\n",
    "### condition: A boolean expression that evaluates to either true or false.\n",
    "### true_val: A value to be assigned if the expression is evaluated to true.\n",
    "### false_val: A value to be assigned if the expression is evaluated to false."
   ]
  },
  {
   "cell_type": "code",
   "execution_count": null,
   "metadata": {},
   "outputs": [],
   "source": [
    "# --------------------------------------------------------------------------------------------------\n"
   ]
  },
  {
   "cell_type": "markdown",
   "metadata": {},
   "source": [
    "# 18) What are global and local variables in Python?\n",
    "### Ans--\n",
    "# Global Variables:\n",
    "### Variables declared outside a function or in global space are called global variables. These variables can be accessed by any function in the program.\n",
    "\n",
    "# Local Variables:\n",
    "### Any variable declared inside a function is known as a local variable. This variable is present in the local space and not in the global space.\n",
    "\n"
   ]
  },
  {
   "cell_type": "code",
   "execution_count": 32,
   "metadata": {},
   "outputs": [],
   "source": [
    "# --------------------------------------------------------------------------------------------------\n"
   ]
  },
  {
   "cell_type": "markdown",
   "metadata": {},
   "source": [
    "# 19) What is dictionary comprehension?\n",
    "\n",
    "### Ans--Dictionary comprehension is one way to create a dictionary in Python. It creates a dictionary by merging two sets of data which are in the form of either lists or arrays.The data of one of the two lists/arrays will act as the keys of the dictionary while the data of the second list/array will act as the values. Each key acts as a unique identifier for each value, hence the size of both lists/arrays should be the same."
   ]
  },
  {
   "cell_type": "code",
   "execution_count": 34,
   "metadata": {},
   "outputs": [
    {
     "name": "stdout",
     "output_type": "stream",
     "text": [
      "{122: 'alex', 233: 'bob', 353: 'can', 456: 'don'}\n"
     ]
    }
   ],
   "source": [
    "rollNumbers =[122,233,353,456]\n",
    "names = ['alex','bob','can', 'don'] \n",
    "NewDictionary={ i:j for (i,j) in zip (rollNumbers,names)}\n",
    "print(NewDictionary)"
   ]
  },
  {
   "cell_type": "code",
   "execution_count": 33,
   "metadata": {},
   "outputs": [],
   "source": [
    "# --------------------------------------------------------------------------------------------------"
   ]
  },
  {
   "cell_type": "markdown",
   "metadata": {},
   "source": [
    "# 20) How would you check if a key exists in a Python dictionary?\n",
    "### Ans--It is a safe practice to check whether or not the key exists in the dictionary prior to extracting the value of that key. For that purpose, Python offers two built-in functions:\n",
    "\n",
    "# has_key()\n",
    "\n",
    "### The has_key method returns true if a given key is available in the dictionary; otherwise, it returns false.\n",
    "\n",
    "\n",
    "# if-in statement\n",
    "\n",
    "### This approach uses the if-in statement to check whether or not a given key exists in the dictionary."
   ]
  },
  {
   "cell_type": "code",
   "execution_count": null,
   "metadata": {},
   "outputs": [],
   "source": [
    "# --------------------------------------------------------------------------------------------------"
   ]
  }
 ],
 "metadata": {
  "kernelspec": {
   "display_name": "Python 3",
   "language": "python",
   "name": "python3"
  },
  "language_info": {
   "codemirror_mode": {
    "name": "ipython",
    "version": 3
   },
   "file_extension": ".py",
   "mimetype": "text/x-python",
   "name": "python",
   "nbconvert_exporter": "python",
   "pygments_lexer": "ipython3",
   "version": "3.7.6"
  }
 },
 "nbformat": 4,
 "nbformat_minor": 4
}
