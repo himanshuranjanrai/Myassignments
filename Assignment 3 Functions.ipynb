{
 "cells": [
  {
   "cell_type": "markdown",
   "metadata": {},
   "source": [
    "# Assignment 3   Functions"
   ]
  },
  {
   "cell_type": "markdown",
   "metadata": {},
   "source": [
    "## Python function to sum all the numbers in a list."
   ]
  },
  {
   "cell_type": "code",
   "execution_count": 1,
   "metadata": {},
   "outputs": [
    {
     "data": {
      "text/plain": [
       "20"
      ]
     },
     "execution_count": 1,
     "metadata": {},
     "output_type": "execute_result"
    }
   ],
   "source": [
    "def sum_all(list1):\n",
    "    summall=0\n",
    "    for i in list1:\n",
    "        summall+=i\n",
    "    return summall\n",
    "list1=[8, 2, 3, 0, 7]\n",
    "sum_all(list1)"
   ]
  },
  {
   "cell_type": "markdown",
   "metadata": {},
   "source": [
    "## Python program to reverse a string Using Function"
   ]
  },
  {
   "cell_type": "code",
   "execution_count": 20,
   "metadata": {},
   "outputs": [
    {
     "data": {
      "text/plain": [
       "'dcba4321'"
      ]
     },
     "execution_count": 20,
     "metadata": {},
     "output_type": "execute_result"
    }
   ],
   "source": [
    "def reverse_string(string1):\n",
    "    for i in string1:\n",
    "        revs=string1[::-1]\n",
    "    return revs\n",
    "\n",
    "string1=\"1234abcd\"\n",
    "reverse_string(string1)\n",
    "    "
   ]
  },
  {
   "cell_type": "markdown",
   "metadata": {},
   "source": [
    "##  Python function that accepts a string and calculate the number of upper case letters and lower case letters."
   ]
  },
  {
   "cell_type": "code",
   "execution_count": 41,
   "metadata": {},
   "outputs": [
    {
     "name": "stdout",
     "output_type": "stream",
     "text": [
      "No. of Upper case characters- 3\n",
      "No. of lower case characters- 12\n"
     ]
    }
   ],
   "source": [
    "def string_uplow_count(string_inp):\n",
    "    uppercase=0\n",
    "    lowercase=0\n",
    "    for i in string_inp:\n",
    "        if ord(i) in range(97,123):\n",
    "            lowercase+=1\n",
    "        if ord(i) in range(65,91):\n",
    "            uppercase+=1\n",
    "    print(\"No. of Upper case characters-\",uppercase )\n",
    "    print(\"No. of lower case characters-\",lowercase )\n",
    "string1='The quick Brow Fox'\n",
    "string_uplow_count(string1)\n",
    "        \n",
    "    \n",
    "    "
   ]
  },
  {
   "cell_type": "code",
   "execution_count": null,
   "metadata": {},
   "outputs": [],
   "source": []
  },
  {
   "cell_type": "code",
   "execution_count": null,
   "metadata": {},
   "outputs": [],
   "source": []
  }
 ],
 "metadata": {
  "kernelspec": {
   "display_name": "Python 3",
   "language": "python",
   "name": "python3"
  },
  "language_info": {
   "codemirror_mode": {
    "name": "ipython",
    "version": 3
   },
   "file_extension": ".py",
   "mimetype": "text/x-python",
   "name": "python",
   "nbconvert_exporter": "python",
   "pygments_lexer": "ipython3",
   "version": "3.7.6"
  }
 },
 "nbformat": 4,
 "nbformat_minor": 4
}
