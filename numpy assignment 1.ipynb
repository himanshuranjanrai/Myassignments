{
 "cells": [
  {
   "cell_type": "markdown",
   "metadata": {},
   "source": [
    "## 1. Create a null vector of size 10 but the fifth value which is 1."
   ]
  },
  {
   "cell_type": "code",
   "execution_count": 8,
   "metadata": {},
   "outputs": [
    {
     "name": "stdout",
     "output_type": "stream",
     "text": [
      "[0. 0. 0. 0. 1. 0. 0. 0. 0. 0.]\n"
     ]
    }
   ],
   "source": [
    "import numpy as np \n",
    "arr= np.zeros(10)\n",
    "arr[4]=1\n",
    "print(arr)"
   ]
  },
  {
   "cell_type": "markdown",
   "metadata": {},
   "source": [
    "## 2. Create a vector with values ranging from 10 to 49.\n"
   ]
  },
  {
   "cell_type": "code",
   "execution_count": 9,
   "metadata": {},
   "outputs": [
    {
     "data": {
      "text/plain": [
       "array([10, 11, 12, 13, 14, 15, 16, 17, 18, 19, 20, 21, 22, 23, 24, 25, 26,\n",
       "       27, 28, 29, 30, 31, 32, 33, 34, 35, 36, 37, 38, 39, 40, 41, 42, 43,\n",
       "       44, 45, 46, 47, 48, 49])"
      ]
     },
     "execution_count": 9,
     "metadata": {},
     "output_type": "execute_result"
    }
   ],
   "source": [
    "np.arange(10,50)"
   ]
  },
  {
   "cell_type": "markdown",
   "metadata": {},
   "source": [
    "## 3. Create a 3x3 matrix with values ranging from 0 to 8"
   ]
  },
  {
   "cell_type": "code",
   "execution_count": 10,
   "metadata": {},
   "outputs": [
    {
     "name": "stdout",
     "output_type": "stream",
     "text": [
      "[[0 1 2]\n",
      " [3 4 5]\n",
      " [6 7 8]]\n"
     ]
    }
   ],
   "source": [
    "arr=np.arange(0,9).reshape(3,3)\n",
    "print(arr)"
   ]
  },
  {
   "cell_type": "markdown",
   "metadata": {},
   "source": [
    "## 4. Find indices of non-zero elements from [1,2,0,0,4,0]"
   ]
  },
  {
   "cell_type": "code",
   "execution_count": 12,
   "metadata": {},
   "outputs": [
    {
     "name": "stdout",
     "output_type": "stream",
     "text": [
      "Non-zero indices are : (array([0, 1, 4], dtype=int64),)\n"
     ]
    }
   ],
   "source": [
    "arr=np.array([1,2,0,0,4,0])\n",
    "print(\"Non-zero indices are :\",np.nonzero(arr))"
   ]
  },
  {
   "cell_type": "markdown",
   "metadata": {},
   "source": [
    "## 5. Create a 10x10 array with random values and find the minimum and maximum values."
   ]
  },
  {
   "cell_type": "code",
   "execution_count": 15,
   "metadata": {},
   "outputs": [
    {
     "name": "stdout",
     "output_type": "stream",
     "text": [
      "[[0.67109801 0.91731528 0.80079909 0.78381562 0.46688709 0.57592809\n",
      "  0.82936267 0.39700939 0.28276904 0.89943808]\n",
      " [0.32538616 0.75300626 0.40832534 0.94765757 0.3125061  0.39646446\n",
      "  0.05278841 0.91093033 0.39454518 0.70685622]\n",
      " [0.86479372 0.29808258 0.59003528 0.50076257 0.16644711 0.29744521\n",
      "  0.50347119 0.01378561 0.52157442 0.53794078]\n",
      " [0.20365129 0.87359065 0.30466474 0.07441784 0.93172269 0.25961032\n",
      "  0.27591504 0.78149645 0.58822043 0.62839558]\n",
      " [0.33132075 0.3148569  0.12734581 0.32944566 0.77346361 0.13315264\n",
      "  0.25323689 0.71364316 0.50263485 0.7657944 ]\n",
      " [0.23305451 0.02366913 0.94024314 0.84319444 0.05080947 0.89041355\n",
      "  0.17751295 0.95974028 0.5116721  0.19578623]\n",
      " [0.35522836 0.55872445 0.45409721 0.930362   0.1999904  0.33981401\n",
      "  0.11173726 0.6176295  0.84367467 0.61689536]\n",
      " [0.15597059 0.40067589 0.00454762 0.39215057 0.61540334 0.18454719\n",
      "  0.96017133 0.16125762 0.74715808 0.42310852]\n",
      " [0.33855702 0.76737804 0.7401757  0.04562073 0.19130867 0.35082758\n",
      "  0.36472813 0.79038672 0.44992492 0.27001228]\n",
      " [0.09024856 0.11280869 0.36829058 0.58199635 0.68597694 0.30913959\n",
      "  0.55702541 0.10355193 0.10312191 0.66949881]]\n",
      "Minimum: 0.004547619853721985\n",
      "Maximum: 0.9601713347574579\n"
     ]
    }
   ],
   "source": [
    "import random\n",
    "random.seed(24)\n",
    "arr=np.random.random(size=(10,10))\n",
    "print(arr)\n",
    "print(\"Minimum:\",arr.min())\n",
    "print(\"Maximum:\",arr.max())\n"
   ]
  },
  {
   "cell_type": "markdown",
   "metadata": {},
   "source": [
    "## 6. Create a random vector of size 30 and find the mean value.\n"
   ]
  },
  {
   "cell_type": "code",
   "execution_count": null,
   "metadata": {},
   "outputs": [],
   "source": [
    "arr=np.random.random((5,6))\n",
    "np.mean(arr)\n"
   ]
  },
  {
   "cell_type": "code",
   "execution_count": null,
   "metadata": {},
   "outputs": [],
   "source": []
  }
 ],
 "metadata": {
  "kernelspec": {
   "display_name": "Python 3",
   "language": "python",
   "name": "python3"
  },
  "language_info": {
   "codemirror_mode": {
    "name": "ipython",
    "version": 3
   },
   "file_extension": ".py",
   "mimetype": "text/x-python",
   "name": "python",
   "nbconvert_exporter": "python",
   "pygments_lexer": "ipython3",
   "version": "3.7.6"
  }
 },
 "nbformat": 4,
 "nbformat_minor": 4
}
